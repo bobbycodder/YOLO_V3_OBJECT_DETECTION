{
 "cells": [
  {
   "cell_type": "code",
   "execution_count": 1,
   "id": "9f66a13d",
   "metadata": {},
   "outputs": [],
   "source": [
    "from collections import namedtuple\n",
    "import numpy as np\n",
    "import cv2\n",
    "# define the `Detection` object\n",
    "Detection = namedtuple(\"Detection\", [\"image_path\", \"gt\", \"pred\"])"
   ]
  },
  {
   "cell_type": "code",
   "execution_count": 2,
   "id": "4da775fa",
   "metadata": {},
   "outputs": [],
   "source": [
    "def bb_intersection_over_union(boxA, boxB):\n",
    "\t# determine the (x, y)-coordinates of the intersection rectangle\n",
    "\txA = max(boxA[0], boxB[0])\n",
    "\tyA = max(boxA[1], boxB[1])\n",
    "\txB = min(boxA[2], boxB[2])\n",
    "\tyB = min(boxA[3], boxB[3])\n",
    "\t# compute the area of intersection rectangle\n",
    "\tinterArea = max(0, xB - xA + 1) * max(0, yB - yA + 1)\n",
    "\t# compute the area of both the prediction and ground-truth\n",
    "\t# rectangles\n",
    "\tboxAArea = (boxA[2] - boxA[0] + 1) * (boxA[3] - boxA[1] + 1)\n",
    "\tboxBArea = (boxB[2] - boxB[0] + 1) * (boxB[3] - boxB[1] + 1)\n",
    "\t# compute the intersection over union by taking the intersection\n",
    "\t# area and dividing it by the sum of prediction + ground-truth\n",
    "\t# areas - the interesection area\n",
    "\tiou = interArea / float(boxAArea + boxBArea - interArea)\n",
    "\t# return the intersection over union value\n",
    "\treturn iou"
   ]
  },
  {
   "cell_type": "code",
   "execution_count": 5,
   "id": "3399e307",
   "metadata": {},
   "outputs": [],
   "source": [
    "examples = [\n",
    "\tDetection(\"old_image.jpg\", [39, 63, 203, 112], [54, 66, 198, 114])]"
   ]
  },
  {
   "cell_type": "code",
   "execution_count": 6,
   "id": "f09f641c",
   "metadata": {},
   "outputs": [
    {
     "name": "stdout",
     "output_type": "stream",
     "text": [
      "old_image.jpg: 0.7980\n"
     ]
    }
   ],
   "source": [
    "# loop over the example detections\n",
    "for detection in examples:\n",
    "\t# load the image\n",
    "\timage = cv2.imread(detection.image_path)\n",
    "\t# draw the ground-truth bounding box along with the predicted\n",
    "\t# bounding box\n",
    "\tcv2.rectangle(image, tuple(detection.gt[:2]), \n",
    "\t\ttuple(detection.gt[2:]), (0, 255, 0), 2)\n",
    "\tcv2.rectangle(image, tuple(detection.pred[:2]), \n",
    "\t\ttuple(detection.pred[2:]), (0, 0, 255), 2)\n",
    "\t# compute the intersection over union and display it\n",
    "\tiou = bb_intersection_over_union(detection.gt, detection.pred)\n",
    "\tcv2.putText(image, \"IoU: {:.4f}\".format(iou), (10, 30),\n",
    "\t\tcv2.FONT_HERSHEY_SIMPLEX, 0.6, (0, 255, 0), 2)\n",
    "\tprint(\"{}: {:.4f}\".format(detection.image_path, iou))\n",
    "\t# show the output image\n",
    "\tcv2.imshow(\"Image\", image)\n",
    "\tcv2.waitKey(0)"
   ]
  },
  {
   "cell_type": "code",
   "execution_count": null,
   "id": "81e7574f",
   "metadata": {},
   "outputs": [],
   "source": []
  }
 ],
 "metadata": {
  "kernelspec": {
   "display_name": "Python 3 (ipykernel)",
   "language": "python",
   "name": "python3"
  },
  "language_info": {
   "codemirror_mode": {
    "name": "ipython",
    "version": 3
   },
   "file_extension": ".py",
   "mimetype": "text/x-python",
   "name": "python",
   "nbconvert_exporter": "python",
   "pygments_lexer": "ipython3",
   "version": "3.9.12"
  }
 },
 "nbformat": 4,
 "nbformat_minor": 5
}
